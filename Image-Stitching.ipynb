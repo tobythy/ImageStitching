{
 "cells": [
  {
   "cell_type": "markdown",
   "metadata": {
    "collapsed": true,
    "pycharm": {
     "name": "#%% md\n"
    }
   },
   "source": [
    "方法：\n",
    "Ransac sift homography\n",
    "0.\t选择两幅部分内容一致，部分内容不同的图像，两者可以有角度/位移等变化。【这个变化完全可以由第一周的内容自己做出来】\n",
    "1.\t对两幅图像分别进行关键点检测，比如用 SIFT. 【大家完全可以尝试别的关键点】\n",
    "2.\t对两幅图像的关键点进行进行匹配并用 RANSAC 去噪，找到单应性关系\n",
    "3.\t将第二幅图像按照单应性关系进行变换 【即右乘单应性矩阵】\n",
    "4.\t将两幅图像相互对应的点重合，其余点也即进行融合。因旋转造成图像 size 大小不同等， 补 0 即可。\n",
    "\n",
    "\n",
    "## SIFT: Scale-Invariant Feature Transform\n",
    "02--02：40：00\n",
    "\n",
    "1. GenerateScale-space:DoG 生成尺度空间\n",
    "2. Scale-spaceExtremaDetection 尺度空间极值点检测\n",
    "3. AccurateKeypointLocalization 精确定位极值点位置\n",
    "4. Eliminating Edge Responses 消除边缘效应，阈值判断\n",
    "5. Orientation Assignment 方向指定\n",
    "6. Keypoint Descriptor 特征描述\n",
    "\n",
    "\n",
    "### 1. GenerateScale-space:DoG 生成尺度空间\n",
    "\n",
    "DoG: Difference of Gaussian\n",
    "\n",
    "GP: Gaussian Pyramid 高斯金字塔\n",
    "octave，缩小1/2生成octave：偶数行、偶数列丢弃\n",
    "\n",
    "差分，生成高斯差分金字塔，-1\n",
    "\n",
    "### 2. Scale-spaceExtremaDetection 尺度空间极值点检测\n",
    "\n",
    "局部极值点：上中下，和9+8+9=27个点比较，确定极值，-2\n",
    "\n",
    "总n+3张图片\n",
    "\n",
    "### 3. AccurateKeypointLocalization 精确定位极值点位置\n",
    "\n",
    "泰勒展开\n",
    "\n",
    "### 4. Eliminating Edge Responses 消除边缘效应，阈值判断\n",
    "\n",
    "### 5. Orientation Assignment 方向指定\n",
    "\n",
    "直方图统计：\n",
    "360/10=36度 为一个bin\n",
    "\n",
    "梯度大小投票\n",
    "高斯加权：越往中心，权重越大\n",
    "\n",
    "最大为主方向，第二大达80%为辅方向\n",
    "\n",
    "### 6. Keypoint Descriptor 特征描述\n",
    "\n",
    "旋转不变性\n",
    "\n",
    "更大范围内统计：4x4个子区域，8个方向，4x4x8=128维向量\n",
    "\n",
    "主方向旋转到x轴方向\n",
    "\n",
    "归一化处理\n"
   ]
  },
  {
   "cell_type": "code",
   "execution_count": 3,
   "outputs": [],
   "source": [
    "import numpy as np\n",
    "import argparse\n",
    "import cv2\n",
    "import matplotlib.pyplot as plt"
   ],
   "metadata": {
    "collapsed": false,
    "pycharm": {
     "name": "#%%\n",
     "is_executing": false
    }
   }
  },
  {
   "cell_type": "code",
   "execution_count": 2,
   "outputs": [
    {
     "name": "stdout",
     "text": [
      "3.4.8\n"
     ],
     "output_type": "stream"
    }
   ],
   "source": [
    "print(cv2.__version__)"
   ],
   "metadata": {
    "collapsed": false,
    "pycharm": {
     "name": "#%%\n",
     "is_executing": false
    }
   }
  },
  {
   "cell_type": "code",
   "execution_count": 4,
   "outputs": [],
   "source": [
    "img1 = cv2.imread('IMG_1336.jpg',0)\n",
    "img2 = cv2.imread('IMG_1337.jpg',0)\n",
    "img3 = cv2.imread('IMG_1338.jpg',0)"
   ],
   "metadata": {
    "collapsed": false,
    "pycharm": {
     "name": "#%%\n",
     "is_executing": false
    }
   }
  },
  {
   "cell_type": "code",
   "execution_count": 5,
   "outputs": [],
   "source": [
    "def my_show(img):\n",
    "    plt.imshow(img, cmap='gray')"
   ],
   "metadata": {
    "collapsed": false,
    "pycharm": {
     "name": "#%%\n",
     "is_executing": false
    }
   }
  }
 ],
 "metadata": {
  "kernelspec": {
   "display_name": "Python 3",
   "language": "python",
   "name": "python3"
  },
  "language_info": {
   "codemirror_mode": {
    "name": "ipython",
    "version": 2
   },
   "file_extension": ".py",
   "mimetype": "text/x-python",
   "name": "python",
   "nbconvert_exporter": "python",
   "pygments_lexer": "ipython2",
   "version": "2.7.6"
  },
  "pycharm": {
   "stem_cell": {
    "cell_type": "raw",
    "source": [],
    "metadata": {
     "collapsed": false
    }
   }
  }
 },
 "nbformat": 4,
 "nbformat_minor": 0
}